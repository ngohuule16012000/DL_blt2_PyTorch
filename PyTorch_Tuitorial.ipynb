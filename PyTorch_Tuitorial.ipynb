{
 "cells": [
  {
   "cell_type": "markdown",
   "metadata": {},
   "source": [
    "## Tensors"
   ]
  },
  {
   "cell_type": "markdown",
   "metadata": {},
   "source": [
    "Tenor là một cấu trúc dữ liệu chuyên biệt rất giống với mảng và ma trận. Trong PyTorch dùng để mã hóa đầu vào và đầu ra của một mô hình, các tham số của mô hình."
   ]
  },
  {
   "cell_type": "code",
   "execution_count": 4,
   "metadata": {},
   "outputs": [
    {
     "name": "stdout",
     "output_type": "stream",
     "text": [
      "tensor([[1, 2],\n",
      "        [3, 4]])\n",
      "tensor([[1, 2],\n",
      "        [3, 4]])\n"
     ]
    }
   ],
   "source": [
    "import torch\n",
    "import numpy as np\n",
    "\n",
    "data = [[1, 2],[3, 4]]\n",
    "x_data = torch.tensor(data)\n",
    "print(x_data)\n",
    "\n",
    "data = [[1, 2],[3, 4]]\n",
    "x_data = torch.tensor(data)\n",
    "print(x_data)"
   ]
  },
  {
   "cell_type": "code",
   "execution_count": null,
   "metadata": {},
   "outputs": [
    {
     "name": "stdout",
     "output_type": "stream",
     "text": [
      "Random Tensor: \n",
      " tensor([[0.7605, 0.0298, 0.7513],\n",
      "        [0.5679, 0.6653, 0.0467]]) \n",
      "\n",
      "Ones Tensor: \n",
      " tensor([[1., 1., 1.],\n",
      "        [1., 1., 1.]]) \n",
      "\n",
      "Zeros Tensor: \n",
      " tensor([[0., 0., 0.],\n",
      "        [0., 0., 0.]])\n"
     ]
    }
   ],
   "source": [
    "shape = (2,3,)\n",
    "rand_tensor = torch.rand(shape)\n",
    "ones_tensor = torch.ones(shape)\n",
    "zeros_tensor = torch.zeros(shape)\n",
    "\n",
    "print(f\"Random Tensor: \\n {rand_tensor} \\n\")\n",
    "print(f\"Ones Tensor: \\n {ones_tensor} \\n\")\n",
    "print(f\"Zeros Tensor: \\n {zeros_tensor}\")"
   ]
  },
  {
   "cell_type": "code",
   "execution_count": null,
   "metadata": {},
   "outputs": [
    {
     "name": "stdout",
     "output_type": "stream",
     "text": [
      "Shape of tensor: torch.Size([3, 4])\n",
      "Datatype of tensor: torch.float32\n",
      "Device tensor is stored on: cpu\n"
     ]
    }
   ],
   "source": [
    "tensor = torch.rand(3,4)\n",
    "\n",
    "print(f\"Shape of tensor: {tensor.shape}\")\n",
    "print(f\"Datatype of tensor: {tensor.dtype}\")\n",
    "print(f\"Device tensor is stored on: {tensor.device}\")"
   ]
  },
  {
   "cell_type": "code",
   "execution_count": null,
   "metadata": {},
   "outputs": [],
   "source": [
    "if torch.cuda.is_available():\n",
    "    tensor = tensor.to(\"cuda\") # move tensor to the GPU"
   ]
  },
  {
   "cell_type": "code",
   "execution_count": null,
   "metadata": {},
   "outputs": [
    {
     "name": "stdout",
     "output_type": "stream",
     "text": [
      "First row: tensor([1., 1., 1., 1.])\n",
      "First column: tensor([1., 1., 1., 1.])\n",
      "Last column: tensor([1., 1., 1., 1.])\n",
      "tensor([[1., 0., 1., 1.],\n",
      "        [1., 0., 1., 1.],\n",
      "        [1., 0., 1., 1.],\n",
      "        [1., 0., 1., 1.]])\n"
     ]
    }
   ],
   "source": [
    "# operations from the list: indexing and slicing\n",
    "tensor = torch.ones(4, 4)\n",
    "print(f\"First row: {tensor[0]}\")\n",
    "print(f\"First column: {tensor[:, 0]}\")\n",
    "print(f\"Last column: {tensor[..., -1]}\")\n",
    "tensor[:,1] = 0\n",
    "print(tensor)"
   ]
  },
  {
   "cell_type": "code",
   "execution_count": 5,
   "metadata": {},
   "outputs": [
    {
     "name": "stdout",
     "output_type": "stream",
     "text": [
      "tensor([[1.0000, 1.0000],\n",
      "        [1.0000, 1.0000],\n",
      "        [0.1728, 0.9192],\n",
      "        [0.3313, 0.7081],\n",
      "        [0.0000, 0.0000],\n",
      "        [0.0000, 0.0000]])\n",
      "tensor([[1.0000, 1.0000, 0.1728, 0.9192, 0.0000, 0.0000],\n",
      "        [1.0000, 1.0000, 0.3313, 0.7081, 0.0000, 0.0000]])\n"
     ]
    }
   ],
   "source": [
    "# concatenate a sequence of tensors along a given dimension\n",
    "a = torch.ones(2,2)\n",
    "b = torch.rand(2,2)\n",
    "c = torch.zeros(2,2)\n",
    "t1 = torch.cat([a, b, c], dim=0)\n",
    "print(t1)\n",
    "t1 = torch.cat([a, b, c], dim=1)\n",
    "print(t1)"
   ]
  },
  {
   "cell_type": "code",
   "execution_count": 7,
   "metadata": {},
   "outputs": [
    {
     "name": "stdout",
     "output_type": "stream",
     "text": [
      "tensor([[1, 1],\n",
      "        [3, 3]])\n"
     ]
    }
   ],
   "source": [
    "x = torch.tensor([[1,1], [2,2]])\n",
    "y = torch.tensor([[0,0], [1,1]])\n",
    "sum = torch.add(x, y)\n",
    "print(sum)"
   ]
  },
  {
   "cell_type": "code",
   "execution_count": null,
   "metadata": {},
   "outputs": [
    {
     "name": "stdout",
     "output_type": "stream",
     "text": [
      "tensor([[2., 4.],\n",
      "        [4., 8.]])\n"
     ]
    }
   ],
   "source": [
    "# y1, y2, y3 will have the same value\n",
    "# `tensor.T` returns the transpose of a tensor\n",
    "tensor = torch.tensor([[1,1], [2,2]], dtype=torch.float)\n",
    "y1 = tensor @ tensor.T\n",
    "y2 = tensor.matmul(tensor.T) # matrix multiplication\n",
    "y3 = torch.rand_like(y1)\n",
    "torch.matmul(tensor, tensor.T, out=y3)\n",
    "print(y1)"
   ]
  },
  {
   "cell_type": "code",
   "execution_count": null,
   "metadata": {},
   "outputs": [
    {
     "name": "stdout",
     "output_type": "stream",
     "text": [
      "tensor([[1., 1.],\n",
      "        [4., 4.]])\n"
     ]
    }
   ],
   "source": [
    "# This computes the element-wise product. z1, z2, z3 will have the same value\n",
    "z1 = tensor * tensor\n",
    "z2 = tensor.mul(tensor)\n",
    "z3 = torch.rand_like(tensor)\n",
    "torch.mul(tensor, tensor, out=z3)\n",
    "print(z1)"
   ]
  },
  {
   "cell_type": "code",
   "execution_count": null,
   "metadata": {},
   "outputs": [
    {
     "name": "stdout",
     "output_type": "stream",
     "text": [
      "6.0 <class 'float'>\n"
     ]
    }
   ],
   "source": [
    "agg = tensor.sum()\n",
    "agg_item = agg.item() # convert tensor() to numerical value\n",
    "print(agg_item, type(agg_item))"
   ]
  },
  {
   "cell_type": "code",
   "execution_count": null,
   "metadata": {},
   "outputs": [
    {
     "name": "stdout",
     "output_type": "stream",
     "text": [
      "tensor([[1., 1.],\n",
      "        [2., 2.]]) \n",
      "\n",
      "tensor([[6., 6.],\n",
      "        [7., 7.]])\n"
     ]
    }
   ],
   "source": [
    "print(f\"{tensor} \\n\")\n",
    "tensor.add_(5) # add and store into tensor\n",
    "print(tensor)"
   ]
  },
  {
   "cell_type": "code",
   "execution_count": null,
   "metadata": {},
   "outputs": [
    {
     "name": "stdout",
     "output_type": "stream",
     "text": [
      "[[6. 6.]\n",
      " [7. 7.]]\n"
     ]
    }
   ],
   "source": [
    "# tensor to numpy\n",
    "n = tensor.numpy()\n",
    "print(n)"
   ]
  },
  {
   "cell_type": "code",
   "execution_count": null,
   "metadata": {},
   "outputs": [
    {
     "name": "stdout",
     "output_type": "stream",
     "text": [
      "tensor: tensor([[7., 7.],\n",
      "        [8., 8.]])\n",
      "n: [[7. 7.]\n",
      " [8. 8.]]\n"
     ]
    }
   ],
   "source": [
    "tensor.add_(1)\n",
    "print(f\"tensor: {tensor}\")\n",
    "print(f\"n: {n}\")"
   ]
  },
  {
   "cell_type": "code",
   "execution_count": null,
   "metadata": {},
   "outputs": [
    {
     "name": "stdout",
     "output_type": "stream",
     "text": [
      "t: tensor([2., 2., 2., 2., 2.], dtype=torch.float64)\n",
      "n: [2. 2. 2. 2. 2.]\n"
     ]
    }
   ],
   "source": [
    "#numpy to tensor\n",
    "n = np.ones(5)\n",
    "t = torch.from_numpy(n)\n",
    "\n",
    "np.add(n, 1, out=n)\n",
    "print(f\"t: {t}\")\n",
    "print(f\"n: {n}\")"
   ]
  },
  {
   "cell_type": "markdown",
   "metadata": {},
   "source": [
    "## Transforms"
   ]
  },
  {
   "cell_type": "markdown",
   "metadata": {},
   "source": [
    "transforms để thực hiện một số thao tác với dữ liệu và làm cho nó phù hợp để đào tạo\n",
    "TorchVision datasets have two parameters -transform và target_transform\n",
    "Sử dụng tensor để chuẩn hóa features và mã hóa một lần - one-hot encoded tensor với các nhãn\n",
    "\n",
    "ToTensor() converts a PIL image or NumPy ndarray into a FloatTensor. and scales the image’s pixel intensity values in the range [0., 1.]"
   ]
  },
  {
   "cell_type": "code",
   "execution_count": null,
   "metadata": {},
   "outputs": [],
   "source": [
    "import torch\n",
    "from torchvision import datasets\n",
    "from torchvision.transforms import ToTensor, Lambda\n",
    "\n",
    "ds = datasets.FashionMNIST(\n",
    "    root=\"data\",\n",
    "    train=True,\n",
    "    download=True,\n",
    "    transform=ToTensor(),\n",
    "    target_transform=Lambda(lambda y: torch.zeros(10, dtype=torch.float).scatter_(0, torch.tensor(y), value=1))\n",
    ")"
   ]
  },
  {
   "cell_type": "markdown",
   "metadata": {},
   "source": []
  },
  {
   "cell_type": "markdown",
   "metadata": {},
   "source": [
    "## NN in FashionMNIST"
   ]
  },
  {
   "cell_type": "code",
   "execution_count": null,
   "metadata": {},
   "outputs": [
    {
     "name": "stdout",
     "output_type": "stream",
     "text": [
      "Requirement already satisfied: matplotlib in c:\\users\\ngohu\\appdata\\local\\programs\\python\\python310\\lib\\site-packages (3.7.0)\n",
      "Requirement already satisfied: packaging>=20.0 in c:\\users\\ngohu\\appdata\\local\\programs\\python\\python310\\lib\\site-packages (from matplotlib) (23.0)\n",
      "Requirement already satisfied: fonttools>=4.22.0 in c:\\users\\ngohu\\appdata\\local\\programs\\python\\python310\\lib\\site-packages (from matplotlib) (4.38.0)\n",
      "Requirement already satisfied: pyparsing>=2.3.1 in c:\\users\\ngohu\\appdata\\local\\programs\\python\\python310\\lib\\site-packages (from matplotlib) (3.0.9)\n",
      "Requirement already satisfied: contourpy>=1.0.1 in c:\\users\\ngohu\\appdata\\local\\programs\\python\\python310\\lib\\site-packages (from matplotlib) (1.0.7)\n",
      "Requirement already satisfied: cycler>=0.10 in c:\\users\\ngohu\\appdata\\local\\programs\\python\\python310\\lib\\site-packages (from matplotlib) (0.11.0)\n",
      "Requirement already satisfied: kiwisolver>=1.0.1 in c:\\users\\ngohu\\appdata\\local\\programs\\python\\python310\\lib\\site-packages (from matplotlib) (1.4.4)\n",
      "Requirement already satisfied: numpy>=1.20 in c:\\users\\ngohu\\appdata\\local\\programs\\python\\python310\\lib\\site-packages (from matplotlib) (1.24.2)\n",
      "Requirement already satisfied: python-dateutil>=2.7 in c:\\users\\ngohu\\appdata\\local\\programs\\python\\python310\\lib\\site-packages (from matplotlib) (2.8.2)\n",
      "Requirement already satisfied: pillow>=6.2.0 in c:\\users\\ngohu\\appdata\\local\\programs\\python\\python310\\lib\\site-packages (from matplotlib) (9.4.0)\n",
      "Requirement already satisfied: six>=1.5 in c:\\users\\ngohu\\appdata\\local\\programs\\python\\python310\\lib\\site-packages (from python-dateutil>=2.7->matplotlib) (1.16.0)\n"
     ]
    }
   ],
   "source": [
    "import torch\n",
    "from torch import nn\n",
    "from torch.utils.data import DataLoader\n",
    "from torchvision import datasets\n",
    "from torchvision.transforms import ToTensor\n",
    "\n",
    "# import sys\n",
    "# !{sys.executable} -m pip install matplotlib\n",
    "\n",
    "import matplotlib.pyplot as plt"
   ]
  },
  {
   "cell_type": "markdown",
   "metadata": {},
   "source": [
    "### Load dataset FashionMNIST"
   ]
  },
  {
   "cell_type": "code",
   "execution_count": null,
   "metadata": {},
   "outputs": [],
   "source": [
    "# Download training data from open datasets.\n",
    "training_data = datasets.FashionMNIST(\n",
    "    root=\"data\",\n",
    "    train=True,\n",
    "    download=True,\n",
    "    transform=ToTensor(),\n",
    ")\n",
    "\n",
    "# Download test data from open datasets.\n",
    "test_data = datasets.FashionMNIST(\n",
    "    root=\"data\",\n",
    "    train=False,\n",
    "    download=True,\n",
    "    transform=ToTensor(),\n",
    ")"
   ]
  },
  {
   "cell_type": "code",
   "execution_count": null,
   "metadata": {},
   "outputs": [
    {
     "name": "stdout",
     "output_type": "stream",
     "text": [
      "Shape of X [N, C, H, W]: torch.Size([64, 1, 28, 28])\n",
      "Shape of y: torch.Size([64]) torch.int64\n"
     ]
    }
   ],
   "source": [
    "batch_size = 64\n",
    "\n",
    "# Create data loaders.\n",
    "train_dataloader = DataLoader(training_data, batch_size=batch_size)\n",
    "test_dataloader = DataLoader(test_data, batch_size=batch_size)\n",
    "\n",
    "for X, y in test_dataloader:\n",
    "    print(f\"Shape of X [N, C, H, W]: {X.shape}\")\n",
    "    print(f\"Shape of y: {y.shape} {y.dtype}\")\n",
    "    break"
   ]
  },
  {
   "cell_type": "code",
   "execution_count": null,
   "metadata": {},
   "outputs": [
    {
     "data": {
      "image/png": "[encoded data removed]",
      "text/plain": [
       "<Figure size 800x800 with 9 Axes>"
      ]
     },
     "metadata": {},
     "output_type": "display_data"
    }
   ],
   "source": [
    "labels_map = {\n",
    "    0: \"T-Shirt\",\n",
    "    1: \"Trouser\",\n",
    "    2: \"Pullover\",\n",
    "    3: \"Dress\",\n",
    "    4: \"Coat\",\n",
    "    5: \"Sandal\",\n",
    "    6: \"Shirt\",\n",
    "    7: \"Sneaker\",\n",
    "    8: \"Bag\",\n",
    "    9: \"Ankle Boot\",\n",
    "}\n",
    "figure = plt.figure(figsize=(8, 8))\n",
    "cols, rows = 3, 3\n",
    "for i in range(1, cols * rows + 1):\n",
    "    sample_idx = torch.randint(len(training_data), size=(1,)).item()\n",
    "    img, label = training_data[sample_idx]\n",
    "    figure.add_subplot(rows, cols, i)\n",
    "    plt.title(labels_map[label])\n",
    "    plt.axis(\"off\")\n",
    "    plt.imshow(img.squeeze(), cmap=\"gray\")\n",
    "plt.show()"
   ]
  },
  {
   "cell_type": "markdown",
   "metadata": {},
   "source": [
    "### Creating Models"
   ]
  },
  {
   "cell_type": "code",
   "execution_count": null,
   "metadata": {},
   "outputs": [
    {
     "name": "stdout",
     "output_type": "stream",
     "text": [
      "Using cuda device\n",
      "NeuralNetwork(\n",
      "  (flatten): Flatten(start_dim=1, end_dim=-1)\n",
      "  (linear_relu_stack): Sequential(\n",
      "    (0): Linear(in_features=784, out_features=512, bias=True)\n",
      "    (1): ReLU()\n",
      "    (2): Linear(in_features=512, out_features=512, bias=True)\n",
      "    (3): ReLU()\n",
      "    (4): Linear(in_features=512, out_features=10, bias=True)\n",
      "  )\n",
      ")\n"
     ]
    }
   ],
   "source": [
    "# Get cpu or gpu device for training.\n",
    "device = \"cuda\" if torch.cuda.is_available() else \"mps\" if torch.backends.mps.is_available() else \"cpu\"\n",
    "print(f\"Using {device} device\")\n",
    "\n",
    "# Define model\n",
    "class NeuralNetwork(nn.Module): # define a neural network define a neural network nn.Module\n",
    "    # define the layers \n",
    "    def __init__(self): \n",
    "        super().__init__()\n",
    "        self.flatten = nn.Flatten() # convert 2D to dim=0 with 28*28 values\n",
    "        self.linear_relu_stack = nn.Sequential(\n",
    "            nn.Linear(28*28, 512), # in features 28*28 => out feature 512\n",
    "            nn.ReLU(), # complex mappings between the model’s inputs and outputs - non-linearity\n",
    "            nn.Linear(512, 512),\n",
    "            nn.ReLU(),\n",
    "            nn.Linear(512, 10)\n",
    "        )\n",
    "\n",
    "    # specify how data will pass through the network\n",
    "    def forward(self, x):\n",
    "        x = self.flatten(x)\n",
    "        logits = self.linear_relu_stack(x)\n",
    "        return logits\n",
    "\n",
    "model = NeuralNetwork().to(device)\n",
    "print(model)"
   ]
  },
  {
   "cell_type": "markdown",
   "metadata": {},
   "source": [
    "### Optimizing the Model Parameters"
   ]
  },
  {
   "cell_type": "code",
   "execution_count": null,
   "metadata": {},
   "outputs": [],
   "source": [
    "def train(dataloader, model, loss_fn, optimizer):\n",
    "    size = len(dataloader.dataset)\n",
    "    model.train()\n",
    "    for batch, (X, y) in enumerate(dataloader):\n",
    "        X, y = X.to(device), y.to(device)\n",
    "\n",
    "        # Compute prediction error\n",
    "        pred = model(X)\n",
    "        loss = loss_fn(pred, y)\n",
    "\n",
    "        # Backpropagation (lan truyền ngược)\n",
    "        optimizer.zero_grad() # reset the gradients (độ dốc) of model parameters to 0\n",
    "        loss.backward() # Backpropagation the prediction loss\n",
    "        optimizer.step() # adjust the parameters by the gradients collected in the backward pass.\n",
    " \n",
    "        if batch % 100 == 0:\n",
    "            loss, current = loss.item(), (batch + 1) * len(X)\n",
    "            print(f\"loss: {loss:>7f}  [{current:>5d}/{size:>5d}]\")"
   ]
  },
  {
   "cell_type": "code",
   "execution_count": null,
   "metadata": {},
   "outputs": [],
   "source": [
    "def test(dataloader, model, loss_fn):\n",
    "    size = len(dataloader.dataset)\n",
    "    num_batches = len(dataloader)\n",
    "    model.eval()\n",
    "    test_loss, correct = 0, 0\n",
    "    with torch.no_grad():\n",
    "        for X, y in dataloader:\n",
    "            X, y = X.to(device), y.to(device)\n",
    "            pred = model(X)\n",
    "            test_loss += loss_fn(pred, y).item()\n",
    "            correct += (pred.argmax(1) == y).type(torch.float).sum().item()\n",
    "    test_loss /= num_batches\n",
    "    correct /= size\n",
    "    print(f\"Test Error: \\n Accuracy: {(100*correct):>0.1f}%, Avg loss: {test_loss:>8f} \\n\")"
   ]
  },
  {
   "cell_type": "code",
   "execution_count": null,
   "metadata": {},
   "outputs": [
    {
     "name": "stdout",
     "output_type": "stream",
     "text": [
      "Epoch 1\n",
      "-------------------------------\n",
      "loss: 2.300621  [   64/60000]\n",
      "loss: 2.295409  [ 6464/60000]\n",
      "loss: 2.275762  [12864/60000]\n",
      "loss: 2.267669  [19264/60000]\n",
      "loss: 2.261706  [25664/60000]\n",
      "loss: 2.215565  [32064/60000]\n",
      "loss: 2.237626  [38464/60000]\n",
      "loss: 2.195642  [44864/60000]\n",
      "loss: 2.194701  [51264/60000]\n",
      "loss: 2.163383  [57664/60000]\n",
      "Test Error: \n",
      " Accuracy: 41.5%, Avg loss: 2.160241 \n",
      "\n",
      "Epoch 2\n",
      "-------------------------------\n",
      "loss: 2.171788  [   64/60000]\n",
      "loss: 2.166134  [ 6464/60000]\n",
      "loss: 2.110706  [12864/60000]\n",
      "loss: 2.118856  [19264/60000]\n",
      "loss: 2.082436  [25664/60000]\n",
      "loss: 2.011526  [32064/60000]\n",
      "loss: 2.052617  [38464/60000]\n",
      "loss: 1.970240  [44864/60000]\n",
      "loss: 1.971368  [51264/60000]\n",
      "loss: 1.907358  [57664/60000]\n",
      "Test Error: \n",
      " Accuracy: 59.8%, Avg loss: 1.903757 \n",
      "\n",
      "Epoch 3\n",
      "-------------------------------\n",
      "loss: 1.935408  [   64/60000]\n",
      "loss: 1.912081  [ 6464/60000]\n",
      "loss: 1.797282  [12864/60000]\n",
      "loss: 1.830121  [19264/60000]\n",
      "loss: 1.733693  [25664/60000]\n",
      "loss: 1.673861  [32064/60000]\n",
      "loss: 1.708237  [38464/60000]\n",
      "loss: 1.605554  [44864/60000]\n",
      "loss: 1.624598  [51264/60000]\n",
      "loss: 1.524346  [57664/60000]\n",
      "Test Error: \n",
      " Accuracy: 61.7%, Avg loss: 1.540209 \n",
      "\n",
      "Epoch 4\n",
      "-------------------------------\n",
      "loss: 1.602853  [   64/60000]\n",
      "loss: 1.574477  [ 6464/60000]\n",
      "loss: 1.423822  [12864/60000]\n",
      "loss: 1.490984  [19264/60000]\n",
      "loss: 1.380807  [25664/60000]\n",
      "loss: 1.361103  [32064/60000]\n",
      "loss: 1.387603  [38464/60000]\n",
      "loss: 1.309800  [44864/60000]\n",
      "loss: 1.340701  [51264/60000]\n",
      "loss: 1.239187  [57664/60000]\n",
      "Test Error: \n",
      " Accuracy: 63.6%, Avg loss: 1.268807 \n",
      "\n",
      "Epoch 5\n",
      "-------------------------------\n",
      "loss: 1.342952  [   64/60000]\n",
      "loss: 1.330609  [ 6464/60000]\n",
      "loss: 1.163856  [12864/60000]\n",
      "loss: 1.265069  [19264/60000]\n",
      "loss: 1.146389  [25664/60000]\n",
      "loss: 1.155788  [32064/60000]\n",
      "loss: 1.188128  [38464/60000]\n",
      "loss: 1.126743  [44864/60000]\n",
      "loss: 1.159605  [51264/60000]\n",
      "loss: 1.074130  [57664/60000]\n",
      "Test Error: \n",
      " Accuracy: 65.0%, Avg loss: 1.098741 \n",
      "\n",
      "Done!\n"
     ]
    }
   ],
   "source": [
    "# normalize and compute prediction error\n",
    "loss_fn = nn.CrossEntropyLoss()\n",
    "# the process of adjusting (điều chỉnh) model parameters to reduce model error in each training step\n",
    "# Stochastic Gradient Descent giảm độ dốc ngẫu nhiên\n",
    "optimizer = torch.optim.SGD(model.parameters(), lr=1e-3)\n",
    "\n",
    "epochs = 5 # lần lặp\n",
    "for t in range(epochs):\n",
    "    print(f\"Epoch {t+1}\\n-------------------------------\")\n",
    "    train(train_dataloader, model, loss_fn, optimizer)\n",
    "    test(test_dataloader, model, loss_fn)\n",
    "print(\"Done!\")"
   ]
  },
  {
   "cell_type": "markdown",
   "metadata": {},
   "source": [
    "### Saving Models"
   ]
  },
  {
   "cell_type": "code",
   "execution_count": null,
   "metadata": {},
   "outputs": [
    {
     "name": "stdout",
     "output_type": "stream",
     "text": [
      "Saved PyTorch Model State to model.pth\n"
     ]
    }
   ],
   "source": [
    "torch.save(model.state_dict(), \"model.pth\")\n",
    "print(\"Saved PyTorch Model State to model.pth\")"
   ]
  },
  {
   "cell_type": "markdown",
   "metadata": {},
   "source": [
    "### Loading Models"
   ]
  },
  {
   "cell_type": "code",
   "execution_count": null,
   "metadata": {},
   "outputs": [
    {
     "data": {
      "text/plain": [
       "<All keys matched successfully>"
      ]
     },
     "metadata": {},
     "output_type": "display_data"
    }
   ],
   "source": [
    "model = NeuralNetwork()\n",
    "model.load_state_dict(torch.load(\"model.pth\"))"
   ]
  },
  {
   "cell_type": "code",
   "execution_count": null,
   "metadata": {},
   "outputs": [
    {
     "name": "stdout",
     "output_type": "stream",
     "text": [
      "Predicted: \"Ankle boot\", Actual: \"Ankle boot\"\n"
     ]
    }
   ],
   "source": [
    "# used to make predictions.\n",
    "classes = [\n",
    "    \"T-shirt/top\",\n",
    "    \"Trouser\",\n",
    "    \"Pullover\",\n",
    "    \"Dress\",\n",
    "    \"Coat\",\n",
    "    \"Sandal\",\n",
    "    \"Shirt\",\n",
    "    \"Sneaker\",\n",
    "    \"Bag\",\n",
    "    \"Ankle boot\",\n",
    "]\n",
    "\n",
    "model.eval()\n",
    "x, y = test_data[0][0], test_data[0][1]\n",
    "with torch.no_grad():\n",
    "    pred = model(x)\n",
    "    predicted, actual = classes[pred[0].argmax(0)], classes[y]\n",
    "    print(f'Predicted: \"{predicted}\", Actual: \"{actual}\"')"
   ]
  },
  {
   "attachments": {},
   "cell_type": "markdown",
   "metadata": {},
   "source": [
    "## RNN & LSTM"
   ]
  },
  {
   "cell_type": "code",
   "execution_count": 1,
   "metadata": {},
   "outputs": [],
   "source": [
    "import torch\n",
    "from torch import nn\n",
    "from torch.utils.data import DataLoader\n",
    "from torchvision import datasets\n",
    "from torchvision.transforms import ToTensor\n",
    "\n",
    "# import sys\n",
    "# !{sys.executable} -m pip install matplotlib\n",
    "\n",
    "import matplotlib.pyplot as plt"
   ]
  },
  {
   "cell_type": "code",
   "execution_count": 74,
   "metadata": {},
   "outputs": [],
   "source": [
    "# Download training data from open datasets.\n",
    "training_data = datasets.MNIST(\n",
    "    root=\"data\",\n",
    "    train=True,\n",
    "    download=True,\n",
    "    transform=ToTensor(),\n",
    ")\n",
    "\n",
    "# Download test data from open datasets.\n",
    "test_data = datasets.MNIST(\n",
    "    root=\"data\",\n",
    "    train=False,\n",
    "    download=True,\n",
    "    transform=ToTensor(),\n",
    ")"
   ]
  },
  {
   "cell_type": "code",
   "execution_count": 75,
   "metadata": {},
   "outputs": [
    {
     "data": {
      "image/png": "[encoded data removed]",
      "text/plain": [
       "<Figure size 800x800 with 1 Axes>"
      ]
     },
     "metadata": {},
     "output_type": "display_data"
    }
   ],
   "source": [
    "figure = plt.figure(figsize=(8, 8))\n",
    "img, label = training_data[0]\n",
    "plt.axis(\"off\")\n",
    "plt.imshow(img.squeeze(), cmap=\"gray\")\n",
    "plt.show()"
   ]
  },
  {
   "cell_type": "code",
   "execution_count": 76,
   "metadata": {},
   "outputs": [
    {
     "name": "stdout",
     "output_type": "stream",
     "text": [
      "Shape of X [N, C, H, W]: torch.Size([100, 1, 28, 28])\n",
      "Shape of y: torch.Size([100]) torch.int64\n"
     ]
    }
   ],
   "source": [
    "batch_size = 100\n",
    "\n",
    "# Create data loaders.\n",
    "train_dataloader = DataLoader(training_data, batch_size=batch_size)\n",
    "test_dataloader = DataLoader(test_data, batch_size=batch_size)\n",
    "\n",
    "for X, y in test_dataloader:\n",
    "    print(f\"Shape of X [N, C, H, W]: {X.shape}\")\n",
    "    print(f\"Shape of y: {y.shape} {y.dtype}\")\n",
    "    break"
   ]
  },
  {
   "cell_type": "code",
   "execution_count": 77,
   "metadata": {},
   "outputs": [],
   "source": [
    "input_size = 28 # kích thước ảnh là 28*28\n",
    "sequence_length = 28\n",
    "hidden_size = 128\n",
    "num_layers = 2\n",
    "num_classes = 10\n",
    "num_epochs = 2"
   ]
  },
  {
   "cell_type": "code",
   "execution_count": 78,
   "metadata": {},
   "outputs": [
    {
     "name": "stdout",
     "output_type": "stream",
     "text": [
      "Using cuda device\n",
      "RNN(\n",
      "  (rnn): RNN(28, 128, num_layers=2, batch_first=True)\n",
      "  (fc): Sequential(\n",
      "    (0): Linear(in_features=128, out_features=10, bias=True)\n",
      "  )\n",
      ")\n"
     ]
    }
   ],
   "source": [
    "# Get cpu or gpu device for training.\n",
    "device = \"cuda\" if torch.cuda.is_available() else \"mps\" if torch.backends.mps.is_available() else \"cpu\"\n",
    "print(f\"Using {device} device\")\n",
    "\n",
    "# Define model\n",
    "class RNN(nn.Module):\n",
    "    def __init__(self, input_size, hidden_size, num_layers, num_classes): \n",
    "        super().__init__()\n",
    "        self.num_layers = num_layers\n",
    "        self.hidden_size = hidden_size\n",
    "        self.rnn = nn.RNN(input_size, hidden_size, num_layers, batch_first = True)\n",
    "        # batch_first is True : x -> (batch_size, seq, input_size)\n",
    "        self.fc = nn.Sequential(\n",
    "            nn.Linear(hidden_size, num_classes), # 128 => out feature 10\n",
    "        )\n",
    "        \n",
    "\n",
    "    # specify how data will pass through the network\n",
    "    def forward(self, x):\n",
    "        h0 = torch.zeros(self.num_layers, x.size(0), self.hidden_size).to(device) # (num_layers, batch, hidden_size)\n",
    "        out, _ = self.rnn(x, h0)\n",
    "        # out: (batch_size, seq_length, hidden_size)\n",
    "        # out (N, 28, 128)\n",
    "        out = out[:, -1, :]\n",
    "        # out (N, 128)\n",
    "        out = self.fc(out)\n",
    "        return out\n",
    "\n",
    "modelRNN = RNN(input_size, hidden_size, num_layers, num_classes).to(device)\n",
    "print(modelRNN)"
   ]
  },
  {
   "cell_type": "code",
   "execution_count": 79,
   "metadata": {},
   "outputs": [
    {
     "name": "stdout",
     "output_type": "stream",
     "text": [
      "LSTM(\n",
      "  (lstm): LSTM(28, 128, num_layers=2, batch_first=True)\n",
      "  (fc): Sequential(\n",
      "    (0): Linear(in_features=128, out_features=10, bias=True)\n",
      "  )\n",
      ")\n"
     ]
    }
   ],
   "source": [
    "# Define model\n",
    "class LSTM(nn.Module):\n",
    "    def __init__(self, input_size, hidden_size, num_layers, num_classes): \n",
    "        super().__init__()\n",
    "        self.num_layers = num_layers\n",
    "        self.hidden_size = hidden_size\n",
    "        self.lstm = nn.LSTM(input_size, hidden_size, num_layers, batch_first = True)\n",
    "        # batch_first is True : x -> (batch_size, seq, input_size)\n",
    "        self.fc = nn.Sequential(\n",
    "            nn.Linear(hidden_size, num_classes), # 128 => out feature 10\n",
    "        )\n",
    "        \n",
    "\n",
    "    # specify how data will pass through the network\n",
    "    def forward(self, x):\n",
    "        h0 = torch.zeros(self.num_layers, x.size(0), self.hidden_size).to(device) # (num_layers, batch, hidden_size)\n",
    "        c0 = torch.zeros(self.num_layers, x.size(0), self.hidden_size).to(device) # (num_layers, batch, hidden_size)\n",
    "        out, _ = self.lstm(x, (h0, c0))\n",
    "        # out: (batch_size, seq_length, hidden_size)\n",
    "        # out (N, 28, 128)\n",
    "        out = out[:, -1, :]\n",
    "        # out (N, 128)\n",
    "        out = self.fc(out)\n",
    "        return out\n",
    "\n",
    "modelLSTM = LSTM(input_size, hidden_size, num_layers, num_classes).to(device)\n",
    "print(modelLSTM)"
   ]
  },
  {
   "cell_type": "code",
   "execution_count": 82,
   "metadata": {},
   "outputs": [
    {
     "name": "stdout",
     "output_type": "stream",
     "text": [
      "Epoch [1/2], Step [100/600], Loss: 0.9735669493675232\n",
      "Epoch [1/2], Step [200/600], Loss: 0.7482567429542542\n",
      "Epoch [1/2], Step [300/600], Loss: 0.8852946758270264\n",
      "Epoch [1/2], Step [400/600], Loss: 0.6554358005523682\n",
      "Epoch [1/2], Step [500/600], Loss: 0.5318505764007568\n",
      "Epoch [1/2], Step [600/600], Loss: 0.4494693875312805\n",
      "Epoch [2/2], Step [100/600], Loss: 0.24581240117549896\n",
      "Epoch [2/2], Step [200/600], Loss: 0.20004932582378387\n",
      "Epoch [2/2], Step [300/600], Loss: 0.5112122893333435\n",
      "Epoch [2/2], Step [400/600], Loss: 0.3515833020210266\n",
      "Epoch [2/2], Step [500/600], Loss: 0.403218537569046\n",
      "Epoch [2/2], Step [600/600], Loss: 0.23901285231113434\n",
      "acc: 85.79\n"
     ]
    }
   ],
   "source": [
    "loss_fn = nn.CrossEntropyLoss()\n",
    "optimizer = torch.optim.Adam(modelRNN.parameters(), lr=1e-3)\n",
    "\n",
    "n_total_step = len(train_dataloader)\n",
    "for epochs in range(num_epochs):\n",
    "    for batch, (images, labels) in enumerate(train_dataloader):\n",
    "        images, labels = images.reshape(-1, sequence_length, input_size).to(device), labels.to(device)\n",
    "\n",
    "        # Compute prediction error\n",
    "        pred = modelRNN(images)\n",
    "        loss = loss_fn(pred, labels)\n",
    "\n",
    "        # Backpropagation (lan truyền ngược)\n",
    "        optimizer.zero_grad() # reset the gradients (độ dốc) of model parameters to 0\n",
    "        loss.backward() # Backpropagation the prediction loss\n",
    "        optimizer.step() # adjust the parameters by the gradients collected in the backward pass.\n",
    " \n",
    "        if (batch+1) % 100 == 0:\n",
    "            print(f\"Epoch [{epochs+1}/{num_epochs}], Step [{batch+1}/{n_total_step}], Loss: {loss.item()}\")\n",
    "\n",
    "with torch.no_grad():\n",
    "    n_sample, correct = 0, 0\n",
    "    for images, labels in test_dataloader:\n",
    "        images, labels = images.reshape(-1, sequence_length, input_size).to(device), labels.to(device)\n",
    "        pred = modelRNN(images)\n",
    "        n_sample += labels.size(0)\n",
    "        \n",
    "        correct += (pred.argmax(1) == labels).sum().item()\n",
    "    acc = 100.0 * correct / n_sample\n",
    "    print(f\"acc: {acc}\")\n",
    "    \n",
    "    "
   ]
  },
  {
   "cell_type": "code",
   "execution_count": 83,
   "metadata": {},
   "outputs": [
    {
     "name": "stdout",
     "output_type": "stream",
     "text": [
      "Epoch [1/2], Step [100/600], Loss: 0.6825345754623413\n",
      "Epoch [1/2], Step [200/600], Loss: 0.5235305428504944\n",
      "Epoch [1/2], Step [300/600], Loss: 0.40095728635787964\n",
      "Epoch [1/2], Step [400/600], Loss: 0.2563858926296234\n",
      "Epoch [1/2], Step [500/600], Loss: 0.31133851408958435\n",
      "Epoch [1/2], Step [600/600], Loss: 0.15975135564804077\n",
      "Epoch [2/2], Step [100/600], Loss: 0.05188586190342903\n",
      "Epoch [2/2], Step [200/600], Loss: 0.11822623014450073\n",
      "Epoch [2/2], Step [300/600], Loss: 0.19420307874679565\n",
      "Epoch [2/2], Step [400/600], Loss: 0.18011562526226044\n",
      "Epoch [2/2], Step [500/600], Loss: 0.10867628455162048\n",
      "Epoch [2/2], Step [600/600], Loss: 0.150856614112854\n",
      "acc: 96.74\n"
     ]
    }
   ],
   "source": [
    "loss_fn = nn.CrossEntropyLoss()\n",
    "optimizer = torch.optim.Adam(modelLSTM.parameters(), lr=1e-3)\n",
    "\n",
    "n_total_step = len(train_dataloader)\n",
    "for epochs in range(num_epochs):\n",
    "    for batch, (images, labels) in enumerate(train_dataloader):\n",
    "        images, labels = images.reshape(-1, sequence_length, input_size).to(device), labels.to(device)\n",
    "\n",
    "        # Compute prediction error\n",
    "        pred = modelLSTM(images)\n",
    "        loss = loss_fn(pred, labels)\n",
    "\n",
    "        # Backpropagation (lan truyền ngược)\n",
    "        optimizer.zero_grad() # reset the gradients (độ dốc) of model parameters to 0\n",
    "        loss.backward() # Backpropagation the prediction loss\n",
    "        optimizer.step() # adjust the parameters by the gradients collected in the backward pass.\n",
    " \n",
    "        if (batch+1) % 100 == 0:\n",
    "            print(f\"Epoch [{epochs+1}/{num_epochs}], Step [{batch+1}/{n_total_step}], Loss: {loss.item()}\")\n",
    "\n",
    "with torch.no_grad():\n",
    "    n_sample, correct = 0, 0\n",
    "    for images, labels in test_dataloader:\n",
    "        images, labels = images.reshape(-1, sequence_length, input_size).to(device), labels.to(device)\n",
    "        pred = modelLSTM(images)\n",
    "        n_sample += labels.size(0)\n",
    "        \n",
    "        correct += (pred.argmax(1) == labels).sum().item()\n",
    "    acc = 100.0 * correct / n_sample\n",
    "    print(f\"acc: {acc}\")\n",
    "    "
   ]
  }
 ],
 "metadata": {
  "kernelspec": {
   "display_name": "Python 3",
   "language": "python",
   "name": "python3"
  },
  "language_info": {
   "codemirror_mode": {
    "name": "ipython",
    "version": 3
   },
   "file_extension": ".py",
   "mimetype": "text/x-python",
   "name": "python",
   "nbconvert_exporter": "python",
   "pygments_lexer": "ipython3",
   "version": "3.10.9"
  },
  "orig_nbformat": 4,
  "vscode": {
   "interpreter": {
    "hash": "1b1a9d446bce7a9aa04964ca3e9380dfe10595a21e359462a0dcccc6b2716c4a"
   }
  }
 },
 "nbformat": 4,
 "nbformat_minor": 2
}
